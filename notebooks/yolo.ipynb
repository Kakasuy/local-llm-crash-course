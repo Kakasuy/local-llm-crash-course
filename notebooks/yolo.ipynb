{
  "cells": [
    {
      "cell_type": "code",
      "source": [
        "from google.colab import drive\n",
        "drive.mount('/content/drive')"
      ],
      "metadata": {
        "id": "tvOWKhDqyc3S",
        "outputId": "96368407-ac83-43c6-c920-f901a538df17",
        "colab": {
          "base_uri": "https://localhost:8080/"
        }
      },
      "execution_count": 1,
      "outputs": [
        {
          "output_type": "stream",
          "name": "stdout",
          "text": [
            "Mounted at /content/drive\n"
          ]
        }
      ]
    },
    {
      "cell_type": "code",
      "execution_count": null,
      "metadata": {
        "colab": {
          "base_uri": "https://localhost:8080/"
        },
        "id": "9dSwz_uOReMI",
        "outputId": "87192050-9449-4568-e1c1-682c45ecf82f"
      },
      "outputs": [
        {
          "name": "stdout",
          "output_type": "stream",
          "text": [
            "Ultralytics 8.3.58 🚀 Python-3.10.12 torch-2.5.1+cu121 CUDA:0 (Tesla T4, 15102MiB)\n",
            "Setup complete ✅ (2 CPUs, 12.7 GB RAM, 33.0/112.6 GB disk)\n"
          ]
        }
      ],
      "source": [
        "%pip install ultralytics\n",
        "\n",
        "import cv2\n",
        "import ultralytics\n",
        "from ultralytics import solutions\n",
        "from ultralytics.utils.downloads import safe_download\n",
        "\n",
        "!apt-get install -y ffmpeg  # for video writing properly\n",
        "ultralytics.checks()"
      ]
    },
    {
      "cell_type": "code",
      "execution_count": null,
      "metadata": {
        "colab": {
          "base_uri": "https://localhost:8080/"
        },
        "id": "S14qHiaNmqRA",
        "outputId": "765b209a-846e-4f7f-8b3d-084a49a21070"
      },
      "outputs": [
        {
          "name": "stdout",
          "output_type": "stream",
          "text": [
            "Downloading https://ultralytics.com/assets/Legextension.demo.video.mp4 to 'Legextension.demo.video.mp4'...\n"
          ]
        },
        {
          "name": "stderr",
          "output_type": "stream",
          "text": [
            "100%|██████████| 5.89M/5.89M [00:00<00:00, 89.7MB/s]"
          ]
        },
        {
          "name": "stdout",
          "output_type": "stream",
          "text": [
            "Downloading https://ultralytics.com/assets/Legpress.demo.video.mp4 to 'Legpress.demo.video.mp4'...\n"
          ]
        },
        {
          "name": "stderr",
          "output_type": "stream",
          "text": [
            "\n",
            "100%|██████████| 7.90M/7.90M [00:00<00:00, 106MB/s]"
          ]
        },
        {
          "name": "stdout",
          "output_type": "stream",
          "text": [
            "Downloading https://ultralytics.com/assets/Squats.demo.video.mp4 to 'Squats.demo.video.mp4'...\n"
          ]
        },
        {
          "name": "stderr",
          "output_type": "stream",
          "text": [
            "\n",
            "100%|██████████| 3.36M/3.36M [00:00<00:00, 53.1MB/s]"
          ]
        },
        {
          "name": "stdout",
          "output_type": "stream",
          "text": [
            "Downloading https://ultralytics.com/assets/Pushups.demo.video.mp4 to 'Pushups.demo.video.mp4'...\n"
          ]
        },
        {
          "name": "stderr",
          "output_type": "stream",
          "text": [
            "\n",
            "100%|██████████| 3.98M/3.98M [00:00<00:00, 65.0MB/s]\n"
          ]
        }
      ],
      "source": [
        "exercises_list = [\"Legextension\", \"Legpress\", \"Squats\", \"Pushups\"]\n",
        "\n",
        "for exercise in exercises_list:\n",
        "    safe_download(f\"https://github.com/ultralytics/assets/releases/download/v0.0.0/{exercise}.demo.video.mp4\")"
      ]
    },
    {
      "cell_type": "markdown",
      "metadata": {
        "id": "ucvg2sFSz9sE"
      },
      "source": [
        "## KeyPoints Map\n",
        "\n",
        "This keypoint map allows you to adjust the keypoints for monitoring workouts. Using these keypoints, various workout exercises can be effectively tracked and analyzed.\n",
        "\n",
        "&nbsp;&nbsp;&nbsp;&nbsp;&nbsp;&nbsp;&nbsp;&nbsp;\n",
        "<img align=\"left\" src=\"https://github.com/ultralytics/docs/releases/download/0/keypoints-order-ultralytics-yolov8-pose.avif\" width=\"480\">"
      ]
    },
    {
      "cell_type": "markdown",
      "metadata": {
        "id": "CxnNEkUl3bUu"
      },
      "source": [
        "## Arguments `AIGym`\n",
        "\n",
        "| Name         | Type    | Default | Description                                                                            |\n",
        "| ------------ | ------- | ------- | -------------------------------------------------------------------------------------- |\n",
        "| `kpts`       | `list`  | `None`  | List of three keypoints index, for counting specific workout, followed by keypoint Map |\n",
        "| `line_width` | `int`   | `2`     | Thickness of the lines drawn.                                                          |\n",
        "| `show`       | `bool`  | `False` | Flag to display the image.                                                             |\n",
        "| `up_angle`   | `float` | `145.0` | Angle threshold for the 'up' pose.                                                     |\n",
        "| `down_angle` | `float` | `90.0`  | Angle threshold for the 'down' pose.                                                   |\n",
        "| `model`      | `str`   | `None`  | Path to Ultralytics YOLO Pose Model File                                               |"
      ]
    },
    {
      "cell_type": "markdown",
      "metadata": {
        "id": "r3kJcUZlilae"
      },
      "source": [
        "## Push-ups counting\n",
        "\n",
        "Push-up counting tracks the number of push-ups performed by detecting the body's movement in each frame. It ensures accurate rep counting and can assess form based on joint angles for improved workout tracking."
      ]
    },
    {
      "cell_type": "code",
      "execution_count": null,
      "metadata": {
        "id": "1sdv7B58dWxc"
      },
      "outputs": [],
      "source": [
        "cap = cv2.VideoCapture(\"/content/Pushups.demo.video.mp4\")\n",
        "assert cap.isOpened(), \"Error reading video file\"\n",
        "\n",
        "# Video writer\n",
        "w, h, fps = (int(cap.get(x)) for x in (cv2.CAP_PROP_FRAME_WIDTH, cv2.CAP_PROP_FRAME_HEIGHT, cv2.CAP_PROP_FPS))\n",
        "video_writer = cv2.VideoWriter(\"Pushups.demo.video.output.avi\", cv2.VideoWriter_fourcc(*\"mp4v\"), fps, (w, h))\n",
        "\n",
        "# Init AIGym\n",
        "gym = solutions.AIGym(\n",
        "    show=True,  # Display the frame\n",
        "    kpts=[5, 7, 9],  # keypoints index of person for monitoring specific exercise, by default it's for pushup\n",
        "    model=\"yolo11n-pose.pt\",  # Path to the YOLO11 pose estimation model file\n",
        "    line_width=4,  # Adjust the line width for bounding boxes and text display\n",
        "    verbose=False,\n",
        ")\n",
        "\n",
        "# Process video\n",
        "while cap.isOpened():\n",
        "    success, im0 = cap.read()\n",
        "    if not success:\n",
        "        print(\"Video frame is empty or video processing has been successfully completed.\")\n",
        "        break\n",
        "    im0 = gym.monitor(im0)  # monitor workouts on each frame\n",
        "    video_writer.write(im0)  # write the output frame in file.\n",
        "\n",
        "cv2.destroyAllWindows()\n",
        "video_writer.release()"
      ]
    },
    {
      "cell_type": "markdown",
      "metadata": {
        "id": "ksV2GfSwvmyM"
      },
      "source": [
        "&nbsp;&nbsp;&nbsp;&nbsp;&nbsp;&nbsp;&nbsp;&nbsp;\n",
        "<img align=\"left\" src=\"https://github.com/user-attachments/assets/bd2f6eec-7ec7-4063-b05a-5bcb9f62622c\" width=\"720\">"
      ]
    }
  ],
  "metadata": {
    "accelerator": "GPU",
    "colab": {
      "gpuType": "T4",
      "provenance": []
    },
    "kernelspec": {
      "display_name": "Python 3",
      "name": "python3"
    },
    "language_info": {
      "name": "python"
    }
  },
  "nbformat": 4,
  "nbformat_minor": 0
}